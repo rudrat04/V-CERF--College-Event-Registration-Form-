{
 "cells": [
  {
   "cell_type": "code",
   "execution_count": 2,
   "metadata": {},
   "outputs": [
    {
     "name": "stdout",
     "output_type": "stream",
     "text": [
      "ID:MaSi00033\n"
     ]
    }
   ],
   "source": [
    "import uuid\n",
    "name=input(\"Enter Name: \")\n",
    "str(name)\n",
    "surname=input(\"Enter Surname: \")\n",
    "str(surname)\n",
    "print(f\"ID:{name[0:2]}{surname[0:2]}{str(uuid.uuid4())[0:5]}\")"
   ]
  }
 ],
 "metadata": {
  "interpreter": {
   "hash": "ac59ebe37160ed0dfa835113d9b8498d9f09ceb179beaac4002f036b9467c963"
  },
  "kernelspec": {
   "display_name": "Python 3.9.7 64-bit",
   "language": "python",
   "name": "python3"
  },
  "language_info": {
   "codemirror_mode": {
    "name": "ipython",
    "version": 3
   },
   "file_extension": ".py",
   "mimetype": "text/x-python",
   "name": "python",
   "nbconvert_exporter": "python",
   "pygments_lexer": "ipython3",
   "version": "3.9.7"
  },
  "orig_nbformat": 4
 },
 "nbformat": 4,
 "nbformat_minor": 2
}
